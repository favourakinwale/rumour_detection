{
 "cells": [
  {
   "cell_type": "code",
   "execution_count": 1,
   "id": "5eb868ae-0fd6-4c0f-8142-248a369580c8",
   "metadata": {},
   "outputs": [],
   "source": [
    "#import libraries\n",
    "import numpy as np\n",
    "import pandas as pd\n",
    "import matplotlib.pyplot as plt\n",
    "import re\n",
    "import emoji"
   ]
  },
  {
   "cell_type": "markdown",
   "id": "7628e704-c8a5-4b0c-8284-43cf08b28db2",
   "metadata": {
    "jp-MarkdownHeadingCollapsed": true
   },
   "source": [
    "#### DATA UNDERSTANDING\n",
    "---"
   ]
  },
  {
   "cell_type": "code",
   "execution_count": 2,
   "id": "d3bb5770-ad5d-4fe3-bfbf-8fe3fe9eed89",
   "metadata": {},
   "outputs": [],
   "source": [
    "#load the data\n",
    "source_tweet = pd.read_csv('twitter15//source_tweets.txt', sep = \"\\t\", header=None, names=[\"ID\", \"text\"])\n",
    "label = pd.read_csv('twitter15//label.txt', sep=\":\", header=None, names=[\"label\", \"ID\"])"
   ]
  },
  {
   "cell_type": "code",
   "execution_count": 3,
   "id": "f050336b-973b-43d9-8c0d-904d8da91158",
   "metadata": {},
   "outputs": [],
   "source": [
    "#merge the data by common column, using ID\n",
    "text_data = pd.merge(source_tweet, label, how = \"left\", on=\"ID\")"
   ]
  },
  {
   "cell_type": "code",
   "execution_count": 4,
   "id": "f65a9199-1666-424a-bc21-df8194eeadea",
   "metadata": {},
   "outputs": [
    {
     "data": {
      "text/html": [
       "<div>\n",
       "<style scoped>\n",
       "    .dataframe tbody tr th:only-of-type {\n",
       "        vertical-align: middle;\n",
       "    }\n",
       "\n",
       "    .dataframe tbody tr th {\n",
       "        vertical-align: top;\n",
       "    }\n",
       "\n",
       "    .dataframe thead th {\n",
       "        text-align: right;\n",
       "    }\n",
       "</style>\n",
       "<table border=\"1\" class=\"dataframe\">\n",
       "  <thead>\n",
       "    <tr style=\"text-align: right;\">\n",
       "      <th></th>\n",
       "      <th>ID</th>\n",
       "      <th>text</th>\n",
       "      <th>label</th>\n",
       "    </tr>\n",
       "  </thead>\n",
       "  <tbody>\n",
       "    <tr>\n",
       "      <th>0</th>\n",
       "      <td>731166399389962242</td>\n",
       "      <td>🔥ca kkk grand wizard 🔥 endorses @hillaryclinto...</td>\n",
       "      <td>unverified</td>\n",
       "    </tr>\n",
       "    <tr>\n",
       "      <th>1</th>\n",
       "      <td>714598641827246081</td>\n",
       "      <td>an open letter to trump voters from his top st...</td>\n",
       "      <td>unverified</td>\n",
       "    </tr>\n",
       "    <tr>\n",
       "      <th>2</th>\n",
       "      <td>691809004356501505</td>\n",
       "      <td>america is a nation of second chances —@potus ...</td>\n",
       "      <td>non-rumor</td>\n",
       "    </tr>\n",
       "    <tr>\n",
       "      <th>3</th>\n",
       "      <td>693204708933160960</td>\n",
       "      <td>brandon marshall visits and offers advice, sup...</td>\n",
       "      <td>non-rumor</td>\n",
       "    </tr>\n",
       "    <tr>\n",
       "      <th>4</th>\n",
       "      <td>551099691702956032</td>\n",
       "      <td>rip elly may clampett: so sad to learn #beverl...</td>\n",
       "      <td>true</td>\n",
       "    </tr>\n",
       "    <tr>\n",
       "      <th>...</th>\n",
       "      <td>...</td>\n",
       "      <td>...</td>\n",
       "      <td>...</td>\n",
       "    </tr>\n",
       "    <tr>\n",
       "      <th>1485</th>\n",
       "      <td>692004901455556608</td>\n",
       "      <td>.@potus just announced new reforms to address ...</td>\n",
       "      <td>non-rumor</td>\n",
       "    </tr>\n",
       "    <tr>\n",
       "      <th>1486</th>\n",
       "      <td>760109079133990912</td>\n",
       "      <td>“after school satan clubs”? URL</td>\n",
       "      <td>unverified</td>\n",
       "    </tr>\n",
       "    <tr>\n",
       "      <th>1487</th>\n",
       "      <td>500281131057811456</td>\n",
       "      <td>breaking news: according to documents released...</td>\n",
       "      <td>unverified</td>\n",
       "    </tr>\n",
       "    <tr>\n",
       "      <th>1488</th>\n",
       "      <td>523098334421319680</td>\n",
       "      <td>ebola vaccines? URL #news #today</td>\n",
       "      <td>false</td>\n",
       "    </tr>\n",
       "    <tr>\n",
       "      <th>1489</th>\n",
       "      <td>523545090099523584</td>\n",
       "      <td>concerned airport passenger suits up in homema...</td>\n",
       "      <td>unverified</td>\n",
       "    </tr>\n",
       "  </tbody>\n",
       "</table>\n",
       "<p>1490 rows × 3 columns</p>\n",
       "</div>"
      ],
      "text/plain": [
       "                      ID                                               text  \\\n",
       "0     731166399389962242  🔥ca kkk grand wizard 🔥 endorses @hillaryclinto...   \n",
       "1     714598641827246081  an open letter to trump voters from his top st...   \n",
       "2     691809004356501505  america is a nation of second chances —@potus ...   \n",
       "3     693204708933160960  brandon marshall visits and offers advice, sup...   \n",
       "4     551099691702956032  rip elly may clampett: so sad to learn #beverl...   \n",
       "...                  ...                                                ...   \n",
       "1485  692004901455556608  .@potus just announced new reforms to address ...   \n",
       "1486  760109079133990912                    “after school satan clubs”? URL   \n",
       "1487  500281131057811456  breaking news: according to documents released...   \n",
       "1488  523098334421319680                   ebola vaccines? URL #news #today   \n",
       "1489  523545090099523584  concerned airport passenger suits up in homema...   \n",
       "\n",
       "           label  \n",
       "0     unverified  \n",
       "1     unverified  \n",
       "2      non-rumor  \n",
       "3      non-rumor  \n",
       "4           true  \n",
       "...          ...  \n",
       "1485   non-rumor  \n",
       "1486  unverified  \n",
       "1487  unverified  \n",
       "1488       false  \n",
       "1489  unverified  \n",
       "\n",
       "[1490 rows x 3 columns]"
      ]
     },
     "execution_count": 4,
     "metadata": {},
     "output_type": "execute_result"
    }
   ],
   "source": [
    "text_data"
   ]
  },
  {
   "cell_type": "code",
   "execution_count": 5,
   "id": "a5a42838-a092-498f-875c-d80f1afa6749",
   "metadata": {},
   "outputs": [
    {
     "data": {
      "text/plain": [
       "ID       0\n",
       "text     0\n",
       "label    0\n",
       "dtype: int64"
      ]
     },
     "execution_count": 5,
     "metadata": {},
     "output_type": "execute_result"
    }
   ],
   "source": [
    "#check for null values\n",
    "text_data.isnull().sum()"
   ]
  },
  {
   "cell_type": "code",
   "execution_count": 6,
   "id": "abd3fbb2-0b0b-45e1-8199-70d9d2993dbe",
   "metadata": {},
   "outputs": [
    {
     "data": {
      "text/plain": [
       "['unverified', 'non-rumor', 'true', 'false']"
      ]
     },
     "execution_count": 6,
     "metadata": {},
     "output_type": "execute_result"
    }
   ],
   "source": [
    "#get list of unique labels\n",
    "label_list = list(text_data['label'].unique())\n",
    "label_list"
   ]
  },
  {
   "cell_type": "markdown",
   "id": "0e44a38b-b8bd-41ec-b671-43699eac271b",
   "metadata": {
    "jp-MarkdownHeadingCollapsed": true
   },
   "source": [
    "#### DATA PREPROCESSING\n",
    "---"
   ]
  },
  {
   "cell_type": "code",
   "execution_count": 7,
   "id": "06031a52-4004-4bd0-a324-755360c4ae4e",
   "metadata": {},
   "outputs": [],
   "source": [
    "#data cleaning process\n",
    "def clean_text(text_list):\n",
    "    patterns = [\n",
    "        r'\\&\\w*;',               #html special entities\n",
    "        r'\\$\\w*',                #tickers\n",
    "        r'https?:\\/\\/.*\\/\\w*',   #hyperlinks\n",
    "        r'http(\\S)+',            #url, rt, mentions@\n",
    "        r'http ...', \n",
    "        r'(RT|rt)[ ]*@[ ]*[\\S]+',\n",
    "        r'RT[ ]?@',\n",
    "        r'@[\\S]+'\n",
    "    ]\n",
    "    \n",
    "    html_entities = {\n",
    "        r'&amp;?': 'and',\n",
    "        r'&lt;': '<',\n",
    "        r'&gt;': '>'\n",
    "    } \n",
    "\n",
    "    redundancies = [\n",
    "        r'\\s\\s+',    #excessive whitespace\n",
    "        r'[ ]{2, }'  #more than 2 spaces\n",
    "    ]\n",
    "    cleaned_texts = [] \n",
    "    for text in text_list:\n",
    "\n",
    "        #apply regex patterns\n",
    "        for pattern in patterns:\n",
    "            text = re.sub(pattern, '', text)\n",
    "\n",
    "        #replace html entities   \n",
    "        for entity, replacement in html_entities.items():\n",
    "            text = re.sub(entity, replacement, text)\n",
    "            \n",
    "        #remove any redundant whitespace\n",
    "        for redundancy in redundancies:\n",
    "            text = re.sub(redundancy, ' ', text)\n",
    "            \n",
    "        #convert emoji to text\n",
    "        text = emoji.demojize(text)\n",
    "\n",
    "        cleaned_texts.append(text)\n",
    "\n",
    "    return cleaned_texts\n",
    "\n",
    "        "
   ]
  },
  {
   "cell_type": "code",
   "execution_count": 8,
   "id": "ba8b6e26-6044-4992-b644-68e2e21f38bf",
   "metadata": {},
   "outputs": [
    {
     "data": {
      "text/html": [
       "<div>\n",
       "<style scoped>\n",
       "    .dataframe tbody tr th:only-of-type {\n",
       "        vertical-align: middle;\n",
       "    }\n",
       "\n",
       "    .dataframe tbody tr th {\n",
       "        vertical-align: top;\n",
       "    }\n",
       "\n",
       "    .dataframe thead th {\n",
       "        text-align: right;\n",
       "    }\n",
       "</style>\n",
       "<table border=\"1\" class=\"dataframe\">\n",
       "  <thead>\n",
       "    <tr style=\"text-align: right;\">\n",
       "      <th></th>\n",
       "      <th>ID</th>\n",
       "      <th>text</th>\n",
       "      <th>label</th>\n",
       "    </tr>\n",
       "  </thead>\n",
       "  <tbody>\n",
       "    <tr>\n",
       "      <th>0</th>\n",
       "      <td>731166399389962242</td>\n",
       "      <td>:fire:ca kkk grand wizard :fire: endorses #nev...</td>\n",
       "      <td>unverified</td>\n",
       "    </tr>\n",
       "    <tr>\n",
       "      <th>1</th>\n",
       "      <td>714598641827246081</td>\n",
       "      <td>an open letter to trump voters from his top st...</td>\n",
       "      <td>unverified</td>\n",
       "    </tr>\n",
       "    <tr>\n",
       "      <th>2</th>\n",
       "      <td>691809004356501505</td>\n",
       "      <td>america is a nation of second chances — on new...</td>\n",
       "      <td>non-rumor</td>\n",
       "    </tr>\n",
       "    <tr>\n",
       "      <th>3</th>\n",
       "      <td>693204708933160960</td>\n",
       "      <td>brandon marshall visits and offers advice, sup...</td>\n",
       "      <td>non-rumor</td>\n",
       "    </tr>\n",
       "    <tr>\n",
       "      <th>4</th>\n",
       "      <td>551099691702956032</td>\n",
       "      <td>rip elly may clampett: so sad to learn #beverl...</td>\n",
       "      <td>true</td>\n",
       "    </tr>\n",
       "    <tr>\n",
       "      <th>...</th>\n",
       "      <td>...</td>\n",
       "      <td>...</td>\n",
       "      <td>...</td>\n",
       "    </tr>\n",
       "    <tr>\n",
       "      <th>1485</th>\n",
       "      <td>692004901455556608</td>\n",
       "      <td>. just announced new reforms to address the ov...</td>\n",
       "      <td>non-rumor</td>\n",
       "    </tr>\n",
       "    <tr>\n",
       "      <th>1486</th>\n",
       "      <td>760109079133990912</td>\n",
       "      <td>“after school satan clubs”? URL</td>\n",
       "      <td>unverified</td>\n",
       "    </tr>\n",
       "    <tr>\n",
       "      <th>1487</th>\n",
       "      <td>500281131057811456</td>\n",
       "      <td>breaking news: according to documents released...</td>\n",
       "      <td>unverified</td>\n",
       "    </tr>\n",
       "    <tr>\n",
       "      <th>1488</th>\n",
       "      <td>523098334421319680</td>\n",
       "      <td>ebola vaccines? URL #news #today</td>\n",
       "      <td>false</td>\n",
       "    </tr>\n",
       "    <tr>\n",
       "      <th>1489</th>\n",
       "      <td>523545090099523584</td>\n",
       "      <td>concerned airport passenger suits up in homema...</td>\n",
       "      <td>unverified</td>\n",
       "    </tr>\n",
       "  </tbody>\n",
       "</table>\n",
       "<p>1490 rows × 3 columns</p>\n",
       "</div>"
      ],
      "text/plain": [
       "                      ID                                               text  \\\n",
       "0     731166399389962242  :fire:ca kkk grand wizard :fire: endorses #nev...   \n",
       "1     714598641827246081  an open letter to trump voters from his top st...   \n",
       "2     691809004356501505  america is a nation of second chances — on new...   \n",
       "3     693204708933160960  brandon marshall visits and offers advice, sup...   \n",
       "4     551099691702956032  rip elly may clampett: so sad to learn #beverl...   \n",
       "...                  ...                                                ...   \n",
       "1485  692004901455556608  . just announced new reforms to address the ov...   \n",
       "1486  760109079133990912                    “after school satan clubs”? URL   \n",
       "1487  500281131057811456  breaking news: according to documents released...   \n",
       "1488  523098334421319680                   ebola vaccines? URL #news #today   \n",
       "1489  523545090099523584  concerned airport passenger suits up in homema...   \n",
       "\n",
       "           label  \n",
       "0     unverified  \n",
       "1     unverified  \n",
       "2      non-rumor  \n",
       "3      non-rumor  \n",
       "4           true  \n",
       "...          ...  \n",
       "1485   non-rumor  \n",
       "1486  unverified  \n",
       "1487  unverified  \n",
       "1488       false  \n",
       "1489  unverified  \n",
       "\n",
       "[1490 rows x 3 columns]"
      ]
     },
     "execution_count": 8,
     "metadata": {},
     "output_type": "execute_result"
    }
   ],
   "source": [
    "text_data['text'] = clean_text(text_data['text']) \n",
    "text_data"
   ]
  },
  {
   "cell_type": "code",
   "execution_count": 9,
   "id": "8eefaf66-9c04-4bf9-a842-ebe80756c3b5",
   "metadata": {},
   "outputs": [
    {
     "data": {
      "text/plain": [
       "label\n",
       "unverified    374\n",
       "non-rumor     374\n",
       "true          372\n",
       "false         370\n",
       "Name: count, dtype: int64"
      ]
     },
     "execution_count": 9,
     "metadata": {},
     "output_type": "execute_result"
    }
   ],
   "source": [
    "#The data is balanced for the classification problem (i.e there is no class inbalance)\n",
    "text_data['label'].value_counts()"
   ]
  },
  {
   "cell_type": "markdown",
   "id": "79479ea0-e243-4085-bf9f-db0a1a19a663",
   "metadata": {
    "jp-MarkdownHeadingCollapsed": true
   },
   "source": [
    "#### FEATURE EXTRACTION + MODEL BUILDING\n",
    "---"
   ]
  },
  {
   "cell_type": "code",
   "execution_count": 10,
   "id": "e627c3f2-6d6d-44a9-aaee-3fab2bfdde7f",
   "metadata": {},
   "outputs": [],
   "source": [
    "#import libraries \n",
    "from sklearn.model_selection import GridSearchCV\n",
    "from sklearn.preprocessing import LabelEncoder\n",
    "from sklearn.pipeline import Pipeline\n",
    "from sklearn.model_selection import train_test_split, cross_validate\n",
    "from sklearn.feature_extraction.text import TfidfVectorizer\n",
    "from sklearn.metrics import classification_report, confusion_matrix, accuracy_score\n",
    "from sklearn.svm import SVC"
   ]
  },
  {
   "cell_type": "code",
   "execution_count": 11,
   "id": "f51be45d-19f4-4fc5-9241-41958e5e8f67",
   "metadata": {},
   "outputs": [],
   "source": [
    "X = text_data['text']\n",
    "y = text_data.iloc[:, [-1]]"
   ]
  },
  {
   "cell_type": "code",
   "execution_count": 12,
   "id": "02e33ad9-ad25-49d9-860c-d09f5e31d1d1",
   "metadata": {},
   "outputs": [],
   "source": [
    "#Split data\n",
    "X_train, X_test, y_train, y_test = train_test_split(X, y, test_size=0.2, random_state = 42)"
   ]
  },
  {
   "cell_type": "code",
   "execution_count": 13,
   "id": "aa3355f9-a1ee-45c7-bb6f-a7b6f0e6afb0",
   "metadata": {},
   "outputs": [
    {
     "name": "stdout",
     "output_type": "stream",
     "text": [
      "['false' 'non-rumor' 'true' 'unverified']\n"
     ]
    }
   ],
   "source": [
    "#encode y_train\n",
    "label_encoder = LabelEncoder()\n",
    "\n",
    "#fit and transform y_train and y_test and save them as a 1d array\n",
    "y_train_encoded = label_encoder.fit_transform(y_train.values.ravel())\n",
    "y_test_encoded = label_encoder.fit_transform(y_test.values.ravel())\n",
    "\n",
    "print(label_encoder.classes_)"
   ]
  },
  {
   "cell_type": "markdown",
   "id": "ed4c850d-17c7-46fc-a017-f10ae47c3458",
   "metadata": {
    "jp-MarkdownHeadingCollapsed": true
   },
   "source": [
    "##### SVM using a Linear Kernel\n",
    "---"
   ]
  },
  {
   "cell_type": "code",
   "execution_count": 14,
   "id": "c7c7b97a-acc9-4585-9a0e-3894ab46df29",
   "metadata": {},
   "outputs": [
    {
     "name": "stdout",
     "output_type": "stream",
     "text": [
      "Best Parameters: 10\n",
      "Best accuracy: 0.8212756232199994\n"
     ]
    }
   ],
   "source": [
    "#building pipeline\n",
    "SVM_clf = Pipeline([\n",
    "                    (\"tfidf\", TfidfVectorizer(stop_words='english', lowercase=True)),\n",
    "                    (\"clf\", SVC(kernel='linear'))\n",
    "                ])\n",
    "\n",
    "SVMParameters = {\"clf__C\": [0.001, 0.01, 0.1, 1, 10, 100]} #using a logarithmic scale\n",
    "\n",
    "#perform grid search\n",
    "grid_search = GridSearchCV(SVM_clf, SVMParameters, cv=5, scoring=\"accuracy\")\n",
    "grid_search.fit(X_train, y_train_encoded)\n",
    "\n",
    "#output the best parameter and score\n",
    "print(\"Best Parameters:\", grid_search.best_params_[\"clf__C\"])\n",
    "print(\"Best accuracy:\", grid_search.best_score_)"
   ]
  },
  {
   "cell_type": "code",
   "execution_count": 15,
   "id": "ea72a302-144b-44b3-b5a3-b1140f6203d5",
   "metadata": {},
   "outputs": [
    {
     "name": "stdout",
     "output_type": "stream",
     "text": [
      "Test accuracy: 0.8288590604026845\n"
     ]
    }
   ],
   "source": [
    "#Use best model to predict on X_test\n",
    "best_model = grid_search.best_estimator_\n",
    "y_pred = best_model.predict(X_test)\n",
    "print(\"Test accuracy:\", accuracy_score(y_test_encoded, y_pred))"
   ]
  },
  {
   "cell_type": "markdown",
   "id": "733b9dc1-b3e2-4545-9726-3563180c27c2",
   "metadata": {
    "jp-MarkdownHeadingCollapsed": true
   },
   "source": [
    "##### SVM using a Non-Linear Kernel\n",
    "---"
   ]
  },
  {
   "cell_type": "code",
   "execution_count": 16,
   "id": "0a9a2189-87f0-4261-b31c-d589ca68980b",
   "metadata": {},
   "outputs": [
    {
     "name": "stdout",
     "output_type": "stream",
     "text": [
      "Best Parameters: {'clf__C': 10, 'clf__gamma': 1}\n",
      "Best accuracy: 0.8237895995218171\n"
     ]
    }
   ],
   "source": [
    "#building pipeline\n",
    "SVM_clf2 = Pipeline([\n",
    "                    (\"tfidf\", TfidfVectorizer(stop_words='english', lowercase=True)),\n",
    "                    (\"clf\", SVC(kernel='rbf'))\n",
    "                ])\n",
    "\n",
    "SVMParameters2 = {\n",
    "                \"clf__C\": [0.001, 0.01, 0.1, 1, 10, 100],\n",
    "                \"clf__gamma\": [0.0001, 0.001, 0.01, 0.1, 1, 10, 100]\n",
    "                } #using a logarithmic scale\n",
    "\n",
    "#perform grid search\n",
    "grid_search2 = GridSearchCV(SVM_clf2, SVMParameters2, cv=5, scoring=\"accuracy\")\n",
    "grid_search2.fit(X_train, y_train_encoded)\n",
    "\n",
    "#output the best parameter and score\n",
    "print(\"Best Parameters:\", grid_search2.best_params_)\n",
    "print(\"Best accuracy:\", grid_search2.best_score_)"
   ]
  },
  {
   "cell_type": "code",
   "execution_count": 17,
   "id": "fb78929c-02e0-4144-93cf-1226b9e31fa1",
   "metadata": {},
   "outputs": [
    {
     "name": "stdout",
     "output_type": "stream",
     "text": [
      "Test accuracy: 0.8288590604026845\n"
     ]
    }
   ],
   "source": [
    "#Use best model to predict on X_test\n",
    "best_model2 = grid_search2.best_estimator_\n",
    "y_pred2 = best_model2.predict(X_test)\n",
    "print(\"Test accuracy:\", accuracy_score(y_test_encoded, y_pred2))"
   ]
  }
 ],
 "metadata": {
  "kernelspec": {
   "display_name": "Python 3 (ipykernel)",
   "language": "python",
   "name": "python3"
  },
  "language_info": {
   "codemirror_mode": {
    "name": "ipython",
    "version": 3
   },
   "file_extension": ".py",
   "mimetype": "text/x-python",
   "name": "python",
   "nbconvert_exporter": "python",
   "pygments_lexer": "ipython3",
   "version": "3.12.0"
  }
 },
 "nbformat": 4,
 "nbformat_minor": 5
}
